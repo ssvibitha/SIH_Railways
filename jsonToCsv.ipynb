{
  "nbformat": 4,
  "nbformat_minor": 0,
  "metadata": {
    "colab": {
      "provenance": [],
      "authorship_tag": "ABX9TyOVWJeVZvglj/dgjfYgR3c1",
      "include_colab_link": true
    },
    "kernelspec": {
      "name": "python3",
      "display_name": "Python 3"
    },
    "language_info": {
      "name": "python"
    }
  },
  "cells": [
    {
      "cell_type": "markdown",
      "metadata": {
        "id": "view-in-github",
        "colab_type": "text"
      },
      "source": [
        "<a href=\"https://colab.research.google.com/github/ssvibitha/SIH_Railways/blob/main/jsonToCsv.ipynb\" target=\"_parent\"><img src=\"https://colab.research.google.com/assets/colab-badge.svg\" alt=\"Open In Colab\"/></a>"
      ]
    },
    {
      "cell_type": "code",
      "execution_count": null,
      "metadata": {
        "colab": {
          "base_uri": "https://localhost:8080/",
          "height": 209
        },
        "id": "frjhyDzcUa84",
        "outputId": "d2bef1df-ce1a-4e38-edd8-3d7c33ff5f5b"
      },
      "outputs": [
        {
          "output_type": "display_data",
          "data": {
            "text/plain": [
              "<IPython.core.display.HTML object>"
            ],
            "text/html": [
              "\n",
              "     <input type=\"file\" id=\"files-c7e9e2e5-59ec-436e-ad09-0fee50543941\" name=\"files[]\" multiple disabled\n",
              "        style=\"border:none\" />\n",
              "     <output id=\"result-c7e9e2e5-59ec-436e-ad09-0fee50543941\">\n",
              "      Upload widget is only available when the cell has been executed in the\n",
              "      current browser session. Please rerun this cell to enable.\n",
              "      </output>\n",
              "      <script>// Copyright 2017 Google LLC\n",
              "//\n",
              "// Licensed under the Apache License, Version 2.0 (the \"License\");\n",
              "// you may not use this file except in compliance with the License.\n",
              "// You may obtain a copy of the License at\n",
              "//\n",
              "//      http://www.apache.org/licenses/LICENSE-2.0\n",
              "//\n",
              "// Unless required by applicable law or agreed to in writing, software\n",
              "// distributed under the License is distributed on an \"AS IS\" BASIS,\n",
              "// WITHOUT WARRANTIES OR CONDITIONS OF ANY KIND, either express or implied.\n",
              "// See the License for the specific language governing permissions and\n",
              "// limitations under the License.\n",
              "\n",
              "/**\n",
              " * @fileoverview Helpers for google.colab Python module.\n",
              " */\n",
              "(function(scope) {\n",
              "function span(text, styleAttributes = {}) {\n",
              "  const element = document.createElement('span');\n",
              "  element.textContent = text;\n",
              "  for (const key of Object.keys(styleAttributes)) {\n",
              "    element.style[key] = styleAttributes[key];\n",
              "  }\n",
              "  return element;\n",
              "}\n",
              "\n",
              "// Max number of bytes which will be uploaded at a time.\n",
              "const MAX_PAYLOAD_SIZE = 100 * 1024;\n",
              "\n",
              "function _uploadFiles(inputId, outputId) {\n",
              "  const steps = uploadFilesStep(inputId, outputId);\n",
              "  const outputElement = document.getElementById(outputId);\n",
              "  // Cache steps on the outputElement to make it available for the next call\n",
              "  // to uploadFilesContinue from Python.\n",
              "  outputElement.steps = steps;\n",
              "\n",
              "  return _uploadFilesContinue(outputId);\n",
              "}\n",
              "\n",
              "// This is roughly an async generator (not supported in the browser yet),\n",
              "// where there are multiple asynchronous steps and the Python side is going\n",
              "// to poll for completion of each step.\n",
              "// This uses a Promise to block the python side on completion of each step,\n",
              "// then passes the result of the previous step as the input to the next step.\n",
              "function _uploadFilesContinue(outputId) {\n",
              "  const outputElement = document.getElementById(outputId);\n",
              "  const steps = outputElement.steps;\n",
              "\n",
              "  const next = steps.next(outputElement.lastPromiseValue);\n",
              "  return Promise.resolve(next.value.promise).then((value) => {\n",
              "    // Cache the last promise value to make it available to the next\n",
              "    // step of the generator.\n",
              "    outputElement.lastPromiseValue = value;\n",
              "    return next.value.response;\n",
              "  });\n",
              "}\n",
              "\n",
              "/**\n",
              " * Generator function which is called between each async step of the upload\n",
              " * process.\n",
              " * @param {string} inputId Element ID of the input file picker element.\n",
              " * @param {string} outputId Element ID of the output display.\n",
              " * @return {!Iterable<!Object>} Iterable of next steps.\n",
              " */\n",
              "function* uploadFilesStep(inputId, outputId) {\n",
              "  const inputElement = document.getElementById(inputId);\n",
              "  inputElement.disabled = false;\n",
              "\n",
              "  const outputElement = document.getElementById(outputId);\n",
              "  outputElement.innerHTML = '';\n",
              "\n",
              "  const pickedPromise = new Promise((resolve) => {\n",
              "    inputElement.addEventListener('change', (e) => {\n",
              "      resolve(e.target.files);\n",
              "    });\n",
              "  });\n",
              "\n",
              "  const cancel = document.createElement('button');\n",
              "  inputElement.parentElement.appendChild(cancel);\n",
              "  cancel.textContent = 'Cancel upload';\n",
              "  const cancelPromise = new Promise((resolve) => {\n",
              "    cancel.onclick = () => {\n",
              "      resolve(null);\n",
              "    };\n",
              "  });\n",
              "\n",
              "  // Wait for the user to pick the files.\n",
              "  const files = yield {\n",
              "    promise: Promise.race([pickedPromise, cancelPromise]),\n",
              "    response: {\n",
              "      action: 'starting',\n",
              "    }\n",
              "  };\n",
              "\n",
              "  cancel.remove();\n",
              "\n",
              "  // Disable the input element since further picks are not allowed.\n",
              "  inputElement.disabled = true;\n",
              "\n",
              "  if (!files) {\n",
              "    return {\n",
              "      response: {\n",
              "        action: 'complete',\n",
              "      }\n",
              "    };\n",
              "  }\n",
              "\n",
              "  for (const file of files) {\n",
              "    const li = document.createElement('li');\n",
              "    li.append(span(file.name, {fontWeight: 'bold'}));\n",
              "    li.append(span(\n",
              "        `(${file.type || 'n/a'}) - ${file.size} bytes, ` +\n",
              "        `last modified: ${\n",
              "            file.lastModifiedDate ? file.lastModifiedDate.toLocaleDateString() :\n",
              "                                    'n/a'} - `));\n",
              "    const percent = span('0% done');\n",
              "    li.appendChild(percent);\n",
              "\n",
              "    outputElement.appendChild(li);\n",
              "\n",
              "    const fileDataPromise = new Promise((resolve) => {\n",
              "      const reader = new FileReader();\n",
              "      reader.onload = (e) => {\n",
              "        resolve(e.target.result);\n",
              "      };\n",
              "      reader.readAsArrayBuffer(file);\n",
              "    });\n",
              "    // Wait for the data to be ready.\n",
              "    let fileData = yield {\n",
              "      promise: fileDataPromise,\n",
              "      response: {\n",
              "        action: 'continue',\n",
              "      }\n",
              "    };\n",
              "\n",
              "    // Use a chunked sending to avoid message size limits. See b/62115660.\n",
              "    let position = 0;\n",
              "    do {\n",
              "      const length = Math.min(fileData.byteLength - position, MAX_PAYLOAD_SIZE);\n",
              "      const chunk = new Uint8Array(fileData, position, length);\n",
              "      position += length;\n",
              "\n",
              "      const base64 = btoa(String.fromCharCode.apply(null, chunk));\n",
              "      yield {\n",
              "        response: {\n",
              "          action: 'append',\n",
              "          file: file.name,\n",
              "          data: base64,\n",
              "        },\n",
              "      };\n",
              "\n",
              "      let percentDone = fileData.byteLength === 0 ?\n",
              "          100 :\n",
              "          Math.round((position / fileData.byteLength) * 100);\n",
              "      percent.textContent = `${percentDone}% done`;\n",
              "\n",
              "    } while (position < fileData.byteLength);\n",
              "  }\n",
              "\n",
              "  // All done.\n",
              "  yield {\n",
              "    response: {\n",
              "      action: 'complete',\n",
              "    }\n",
              "  };\n",
              "}\n",
              "\n",
              "scope.google = scope.google || {};\n",
              "scope.google.colab = scope.google.colab || {};\n",
              "scope.google.colab._files = {\n",
              "  _uploadFiles,\n",
              "  _uploadFilesContinue,\n",
              "};\n",
              "})(self);\n",
              "</script> "
            ]
          },
          "metadata": {}
        },
        {
          "output_type": "stream",
          "name": "stdout",
          "text": [
            "Saving schedules.json to schedules.json\n",
            "Saving stations.json to stations.json\n",
            "Saving timetable.csv to timetable.csv\n",
            "Saving traffic_density.csv to traffic_density.csv\n",
            "Saving trains.json to trains.json\n"
          ]
        }
      ],
      "source": [
        "from google.colab import files\n",
        "uploaded = files.upload()  # this opens a file picker\n"
      ]
    },
    {
      "cell_type": "code",
      "source": [
        "!git clone https://github.com/ssvibitha/SIH_Railways.git\n"
      ],
      "metadata": {
        "colab": {
          "base_uri": "https://localhost:8080/"
        },
        "id": "F24xu-gJgsGO",
        "outputId": "d90fbfbd-7e99-4013-dd4f-87b217b0e958"
      },
      "execution_count": null,
      "outputs": [
        {
          "output_type": "stream",
          "name": "stdout",
          "text": [
            "Cloning into 'SIH_Railways'...\n",
            "remote: Enumerating objects: 12, done.\u001b[K\n",
            "remote: Counting objects: 100% (12/12), done.\u001b[K\n",
            "remote: Compressing objects: 100% (11/11), done.\u001b[K\n",
            "remote: Total 12 (delta 0), reused 9 (delta 0), pack-reused 0 (from 0)\u001b[K\n",
            "Receiving objects: 100% (12/12), 18.59 MiB | 12.93 MiB/s, done.\n"
          ]
        }
      ]
    },
    {
      "cell_type": "code",
      "source": [
        "import pandas as pd\n",
        "import json"
      ],
      "metadata": {
        "id": "-7fzomgbkaHG"
      },
      "execution_count": null,
      "outputs": []
    },
    {
      "cell_type": "code",
      "source": [
        "# Load trains JSON\n",
        "with open('trains.json', 'r') as f:\n",
        "    trains_data = json.load(f)\n",
        "trains = pd.DataFrame(trains_data)\n",
        "\n",
        "# Load stations JSON\n",
        "with open('stations.json', 'r') as f:\n",
        "    stations_data = json.load(f)\n",
        "stations = pd.DataFrame(stations_data)\n",
        "\n",
        "# Load schedules JSON\n",
        "with open('schedules.json', 'r') as f:\n",
        "    schedules_data = json.load(f)\n",
        "schedules = pd.DataFrame(schedules_data)\n",
        "\n",
        "# Load timetable CSV\n",
        "timetable = pd.read_csv('timetable.csv')\n",
        "\n",
        "# Load traffic density CSV\n",
        "traffic_density = pd.read_csv('traffic_density.csv')\n"
      ],
      "metadata": {
        "colab": {
          "base_uri": "https://localhost:8080/"
        },
        "id": "EcaGH02MlhqE",
        "outputId": "9f8c5cf3-4737-49ad-be75-1c3d9939b6c9"
      },
      "execution_count": null,
      "outputs": [
        {
          "output_type": "stream",
          "name": "stderr",
          "text": [
            "/tmp/ipython-input-1738645134.py:17: DtypeWarning: Columns (0,2,7) have mixed types. Specify dtype option on import or set low_memory=False.\n",
            "  timetable = pd.read_csv('timetable.csv')\n"
          ]
        }
      ]
    },
    {
      "cell_type": "code",
      "source": [
        "print(\"Train dataset\")\n",
        "print(trains.head())\n",
        "print(\"\\nStations dataset\")\n",
        "print(stations.head())\n",
        "print(\"\\nSchedules dataset\")\n",
        "print(schedules.head())\n",
        "print(\"\\nTimetable dataset\")\n",
        "print(timetable.head())\n",
        "print(\"\\nTraffic Density dataset\")\n",
        "print(traffic_density.head())\n",
        "\n",
        "# Check for missing values\n",
        "print(trains.isnull().sum())\n",
        "print(stations.isnull().sum())\n",
        "print(schedules.isnull().sum())\n"
      ],
      "metadata": {
        "colab": {
          "base_uri": "https://localhost:8080/"
        },
        "id": "lh7niWNQl2TK",
        "outputId": "cf39e5f8-658b-42b3-d652-761d8ee27958"
      },
      "execution_count": null,
      "outputs": [
        {
          "output_type": "stream",
          "name": "stdout",
          "text": [
            "Train dataset\n",
            "                type                                           features\n",
            "0  FeatureCollection  {'geometry': {'type': 'LineString', 'coordinat...\n",
            "1  FeatureCollection  {'geometry': {'type': 'LineString', 'coordinat...\n",
            "2  FeatureCollection  {'geometry': {'type': 'LineString', 'coordinat...\n",
            "3  FeatureCollection  {'geometry': {'type': 'LineString', 'coordinat...\n",
            "4  FeatureCollection  {'geometry': {'type': 'LineString', 'coordinat...\n",
            "\n",
            "Stations dataset\n",
            "                type                                           features\n",
            "0  FeatureCollection  {'geometry': {'type': 'Point', 'coordinates': ...\n",
            "1  FeatureCollection  {'geometry': None, 'type': 'Feature', 'propert...\n",
            "2  FeatureCollection  {'geometry': None, 'type': 'Feature', 'propert...\n",
            "3  FeatureCollection  {'geometry': None, 'type': 'Feature', 'propert...\n",
            "4  FeatureCollection  {'geometry': {'type': 'Point', 'coordinates': ...\n",
            "\n",
            "Schedules dataset\n",
            "  arrival  day                     train_name         station_name  \\\n",
            "0    None  1.0     Falaknuma Lingampalli MMTS  KACHEGUDA FALAKNUMA   \n",
            "1    None  1.0   Thrissur Guruvayur Passenger              THRISUR   \n",
            "2    None  1.0  Porbandar Muzaffarpur Express            PORBANDAR   \n",
            "3    None  1.0             RAIPUR ITWARI PASS            RAIPUR JN   \n",
            "4    None  1.0             Gomoh-Asansol MEMU             GOMOH JN   \n",
            "\n",
            "  station_code      id train_number departure  \n",
            "0           FM  302214        47154  07:55:00  \n",
            "1          TCR  281458        56044  18:55:00  \n",
            "2          PBR  309335        19269  15:05:00  \n",
            "3            R  283774        58205  13:30:00  \n",
            "4          GMO  319937        63542  07:20:00  \n",
            "\n",
            "Timetable dataset\n",
            "  Train No    Train Name SEQ Station Code  Station Name Arrival time  \\\n",
            "0      107  SWV-MAO-VLNK   1          SWV  SAWANTWADI R          NaT   \n",
            "1      107  SWV-MAO-VLNK   2         THVM        THIVIM          NaT   \n",
            "2      107  SWV-MAO-VLNK   3         KRMI       KARMALI          NaT   \n",
            "3      107  SWV-MAO-VLNK   4          MAO   MADGOAN JN.          NaT   \n",
            "4      108  VLNK-MAO-SWV   1          MAO   MADGOAN JN.          NaT   \n",
            "\n",
            "  Departure Time Distance Source Station Source Station Name  \\\n",
            "0            NaT        0            SWV     SAWANTWADI ROAD   \n",
            "1            NaT       32            SWV     SAWANTWADI ROAD   \n",
            "2            NaT       49            SWV     SAWANTWADI ROAD   \n",
            "3            NaT       78            SWV     SAWANTWADI ROAD   \n",
            "4            NaT        0            MAO         MADGOAN JN.   \n",
            "\n",
            "  Destination Station Destination Station Name  Arrival missing  \\\n",
            "0                 MAO              MADGOAN JN.            False   \n",
            "1                 MAO              MADGOAN JN.            False   \n",
            "2                 MAO              MADGOAN JN.            False   \n",
            "3                 MAO              MADGOAN JN.            False   \n",
            "4                 SWV          SAWANTWADI ROAD            False   \n",
            "\n",
            "   Departure missing  \n",
            "0              False  \n",
            "1              False  \n",
            "2              False  \n",
            "3              False  \n",
            "4              False  \n",
            "\n",
            "Traffic Density dataset\n",
            "      Year  Broad Gauge - Train Kms. per Running Track Km. per Day  \\\n",
            "0  1950-51                                               17.0        \n",
            "1  1955-56                                               18.7        \n",
            "2  1960-61                                               20.4        \n",
            "3  1961-62                                               20.3        \n",
            "4  1962-63                                               20.6        \n",
            "\n",
            "  Broad Gauge - Passenger Kms. per Route Km. per Annum 000s  \\\n",
            "0                                              1,765          \n",
            "1                                              1,619          \n",
            "2                                              2,027          \n",
            "3                                              2,122          \n",
            "4                                              2,162          \n",
            "\n",
            "  Broad Gauge - Net tonnes Kms. per Route Km. per Annum 000s  \\\n",
            "0                                              1,502           \n",
            "1                                              1,942           \n",
            "2                                              2,764           \n",
            "3                                              2,809           \n",
            "4                                              3,084           \n",
            "\n",
            "   Meter Gauge - Train Kms. per Running Track Km. per Day  \\\n",
            "0                                               10.5        \n",
            "1                                               11.7        \n",
            "2                                               13.4        \n",
            "3                                               13.7        \n",
            "4                                               13.9        \n",
            "\n",
            "  Meter Gauge - Passenger Kms. per Route Km. per Annum 000s  \\\n",
            "0                                                853          \n",
            "1                                                778          \n",
            "2                                                887          \n",
            "3                                                927          \n",
            "4                                                944          \n",
            "\n",
            "   Meter Gauge - Net tonnes Kms. per Route Km. per Annum 000s  \n",
            "0                                                245           \n",
            "1                                                359           \n",
            "2                                                543           \n",
            "3                                                596           \n",
            "4                                                641           \n",
            "type        0\n",
            "features    0\n",
            "dtype: int64\n",
            "type        0\n",
            "features    0\n",
            "dtype: int64\n",
            "arrival             0\n",
            "day             22561\n",
            "train_name          0\n",
            "station_name        0\n",
            "station_code        0\n",
            "id                  0\n",
            "train_number        0\n",
            "departure           0\n",
            "dtype: int64\n"
          ]
        }
      ]
    },
    {
      "cell_type": "code",
      "source": [
        "# Example: fill missing arrival/departure with placeholder\n",
        "timetable['Arrival time'].fillna('00:00')\n",
        "timetable['Departure Time'].fillna('00:00')"
      ],
      "metadata": {
        "colab": {
          "base_uri": "https://localhost:8080/",
          "height": 458
        },
        "id": "6ECvF98Lmz_c",
        "outputId": "8c18f81c-9e64-4733-fe2a-b84a8f30e1c2"
      },
      "execution_count": null,
      "outputs": [
        {
          "output_type": "execute_result",
          "data": {
            "text/plain": [
              "0         10:25:00\n",
              "1         11:08:00\n",
              "2         11:30:00\n",
              "3         00:00:00\n",
              "4         20:30:00\n",
              "            ...   \n",
              "186119    23:31:00\n",
              "186120    23:36:00\n",
              "186121    23:40:00\n",
              "186122    23:42:00\n",
              "186123    00:00:00\n",
              "Name: Departure Time, Length: 186124, dtype: object"
            ],
            "text/html": [
              "<div>\n",
              "<style scoped>\n",
              "    .dataframe tbody tr th:only-of-type {\n",
              "        vertical-align: middle;\n",
              "    }\n",
              "\n",
              "    .dataframe tbody tr th {\n",
              "        vertical-align: top;\n",
              "    }\n",
              "\n",
              "    .dataframe thead th {\n",
              "        text-align: right;\n",
              "    }\n",
              "</style>\n",
              "<table border=\"1\" class=\"dataframe\">\n",
              "  <thead>\n",
              "    <tr style=\"text-align: right;\">\n",
              "      <th></th>\n",
              "      <th>Departure Time</th>\n",
              "    </tr>\n",
              "  </thead>\n",
              "  <tbody>\n",
              "    <tr>\n",
              "      <th>0</th>\n",
              "      <td>10:25:00</td>\n",
              "    </tr>\n",
              "    <tr>\n",
              "      <th>1</th>\n",
              "      <td>11:08:00</td>\n",
              "    </tr>\n",
              "    <tr>\n",
              "      <th>2</th>\n",
              "      <td>11:30:00</td>\n",
              "    </tr>\n",
              "    <tr>\n",
              "      <th>3</th>\n",
              "      <td>00:00:00</td>\n",
              "    </tr>\n",
              "    <tr>\n",
              "      <th>4</th>\n",
              "      <td>20:30:00</td>\n",
              "    </tr>\n",
              "    <tr>\n",
              "      <th>...</th>\n",
              "      <td>...</td>\n",
              "    </tr>\n",
              "    <tr>\n",
              "      <th>186119</th>\n",
              "      <td>23:31:00</td>\n",
              "    </tr>\n",
              "    <tr>\n",
              "      <th>186120</th>\n",
              "      <td>23:36:00</td>\n",
              "    </tr>\n",
              "    <tr>\n",
              "      <th>186121</th>\n",
              "      <td>23:40:00</td>\n",
              "    </tr>\n",
              "    <tr>\n",
              "      <th>186122</th>\n",
              "      <td>23:42:00</td>\n",
              "    </tr>\n",
              "    <tr>\n",
              "      <th>186123</th>\n",
              "      <td>00:00:00</td>\n",
              "    </tr>\n",
              "  </tbody>\n",
              "</table>\n",
              "<p>186124 rows × 1 columns</p>\n",
              "</div><br><label><b>dtype:</b> object</label>"
            ]
          },
          "metadata": {},
          "execution_count": 10
        }
      ]
    },
    {
      "cell_type": "code",
      "source": [
        "# Standardize time formats\n",
        "timetable['Arrival time'] = pd.to_datetime(timetable['Arrival time'], format='%H:%M', errors='coerce')\n",
        "timetable['Departure Time'] = pd.to_datetime(timetable['Departure Time'], format='%H:%M', errors='coerce')"
      ],
      "metadata": {
        "id": "r7jAsauin9QZ"
      },
      "execution_count": null,
      "outputs": []
    },
    {
      "cell_type": "code",
      "source": [
        "# Map station codes consistently\n",
        "station_map = dict(zip(stations['code'], stations['name']))\n",
        "timetable['Station Name'] = timetable['Station Code'].map(station_map)\n",
        "schedules['station_name'] = schedules['station_code'].map(station_map)"
      ],
      "metadata": {
        "colab": {
          "base_uri": "https://localhost:8080/",
          "height": 547
        },
        "id": "3Z9neKdKoZBg",
        "outputId": "ad6063fe-d20b-4868-e6ab-0e8484902524"
      },
      "execution_count": null,
      "outputs": [
        {
          "output_type": "error",
          "ename": "KeyError",
          "evalue": "'code'",
          "traceback": [
            "\u001b[0;31m---------------------------------------------------------------------------\u001b[0m",
            "\u001b[0;31mKeyError\u001b[0m                                  Traceback (most recent call last)",
            "\u001b[0;32m/usr/local/lib/python3.12/dist-packages/pandas/core/indexes/base.py\u001b[0m in \u001b[0;36mget_loc\u001b[0;34m(self, key)\u001b[0m\n\u001b[1;32m   3804\u001b[0m         \u001b[0;32mtry\u001b[0m\u001b[0;34m:\u001b[0m\u001b[0;34m\u001b[0m\u001b[0;34m\u001b[0m\u001b[0m\n\u001b[0;32m-> 3805\u001b[0;31m             \u001b[0;32mreturn\u001b[0m \u001b[0mself\u001b[0m\u001b[0;34m.\u001b[0m\u001b[0m_engine\u001b[0m\u001b[0;34m.\u001b[0m\u001b[0mget_loc\u001b[0m\u001b[0;34m(\u001b[0m\u001b[0mcasted_key\u001b[0m\u001b[0;34m)\u001b[0m\u001b[0;34m\u001b[0m\u001b[0;34m\u001b[0m\u001b[0m\n\u001b[0m\u001b[1;32m   3806\u001b[0m         \u001b[0;32mexcept\u001b[0m \u001b[0mKeyError\u001b[0m \u001b[0;32mas\u001b[0m \u001b[0merr\u001b[0m\u001b[0;34m:\u001b[0m\u001b[0;34m\u001b[0m\u001b[0;34m\u001b[0m\u001b[0m\n",
            "\u001b[0;32mindex.pyx\u001b[0m in \u001b[0;36mpandas._libs.index.IndexEngine.get_loc\u001b[0;34m()\u001b[0m\n",
            "\u001b[0;32mindex.pyx\u001b[0m in \u001b[0;36mpandas._libs.index.IndexEngine.get_loc\u001b[0;34m()\u001b[0m\n",
            "\u001b[0;32mpandas/_libs/hashtable_class_helper.pxi\u001b[0m in \u001b[0;36mpandas._libs.hashtable.PyObjectHashTable.get_item\u001b[0;34m()\u001b[0m\n",
            "\u001b[0;32mpandas/_libs/hashtable_class_helper.pxi\u001b[0m in \u001b[0;36mpandas._libs.hashtable.PyObjectHashTable.get_item\u001b[0;34m()\u001b[0m\n",
            "\u001b[0;31mKeyError\u001b[0m: 'code'",
            "\nThe above exception was the direct cause of the following exception:\n",
            "\u001b[0;31mKeyError\u001b[0m                                  Traceback (most recent call last)",
            "\u001b[0;32m/tmp/ipython-input-1436965929.py\u001b[0m in \u001b[0;36m<cell line: 0>\u001b[0;34m()\u001b[0m\n\u001b[1;32m      1\u001b[0m \u001b[0;31m# Map station codes consistently\u001b[0m\u001b[0;34m\u001b[0m\u001b[0;34m\u001b[0m\u001b[0m\n\u001b[0;32m----> 2\u001b[0;31m \u001b[0mstation_map\u001b[0m \u001b[0;34m=\u001b[0m \u001b[0mdict\u001b[0m\u001b[0;34m(\u001b[0m\u001b[0mzip\u001b[0m\u001b[0;34m(\u001b[0m\u001b[0mstations\u001b[0m\u001b[0;34m[\u001b[0m\u001b[0;34m'code'\u001b[0m\u001b[0;34m]\u001b[0m\u001b[0;34m,\u001b[0m \u001b[0mstations\u001b[0m\u001b[0;34m[\u001b[0m\u001b[0;34m'name'\u001b[0m\u001b[0;34m]\u001b[0m\u001b[0;34m)\u001b[0m\u001b[0;34m)\u001b[0m\u001b[0;34m\u001b[0m\u001b[0;34m\u001b[0m\u001b[0m\n\u001b[0m\u001b[1;32m      3\u001b[0m \u001b[0mtimetable\u001b[0m\u001b[0;34m[\u001b[0m\u001b[0;34m'Station Name'\u001b[0m\u001b[0;34m]\u001b[0m \u001b[0;34m=\u001b[0m \u001b[0mtimetable\u001b[0m\u001b[0;34m[\u001b[0m\u001b[0;34m'Station Code'\u001b[0m\u001b[0;34m]\u001b[0m\u001b[0;34m.\u001b[0m\u001b[0mmap\u001b[0m\u001b[0;34m(\u001b[0m\u001b[0mstation_map\u001b[0m\u001b[0;34m)\u001b[0m\u001b[0;34m\u001b[0m\u001b[0;34m\u001b[0m\u001b[0m\n\u001b[1;32m      4\u001b[0m \u001b[0mschedules\u001b[0m\u001b[0;34m[\u001b[0m\u001b[0;34m'station_name'\u001b[0m\u001b[0;34m]\u001b[0m \u001b[0;34m=\u001b[0m \u001b[0mschedules\u001b[0m\u001b[0;34m[\u001b[0m\u001b[0;34m'station_code'\u001b[0m\u001b[0;34m]\u001b[0m\u001b[0;34m.\u001b[0m\u001b[0mmap\u001b[0m\u001b[0;34m(\u001b[0m\u001b[0mstation_map\u001b[0m\u001b[0;34m)\u001b[0m\u001b[0;34m\u001b[0m\u001b[0;34m\u001b[0m\u001b[0m\n",
            "\u001b[0;32m/usr/local/lib/python3.12/dist-packages/pandas/core/frame.py\u001b[0m in \u001b[0;36m__getitem__\u001b[0;34m(self, key)\u001b[0m\n\u001b[1;32m   4100\u001b[0m             \u001b[0;32mif\u001b[0m \u001b[0mself\u001b[0m\u001b[0;34m.\u001b[0m\u001b[0mcolumns\u001b[0m\u001b[0;34m.\u001b[0m\u001b[0mnlevels\u001b[0m \u001b[0;34m>\u001b[0m \u001b[0;36m1\u001b[0m\u001b[0;34m:\u001b[0m\u001b[0;34m\u001b[0m\u001b[0;34m\u001b[0m\u001b[0m\n\u001b[1;32m   4101\u001b[0m                 \u001b[0;32mreturn\u001b[0m \u001b[0mself\u001b[0m\u001b[0;34m.\u001b[0m\u001b[0m_getitem_multilevel\u001b[0m\u001b[0;34m(\u001b[0m\u001b[0mkey\u001b[0m\u001b[0;34m)\u001b[0m\u001b[0;34m\u001b[0m\u001b[0;34m\u001b[0m\u001b[0m\n\u001b[0;32m-> 4102\u001b[0;31m             \u001b[0mindexer\u001b[0m \u001b[0;34m=\u001b[0m \u001b[0mself\u001b[0m\u001b[0;34m.\u001b[0m\u001b[0mcolumns\u001b[0m\u001b[0;34m.\u001b[0m\u001b[0mget_loc\u001b[0m\u001b[0;34m(\u001b[0m\u001b[0mkey\u001b[0m\u001b[0;34m)\u001b[0m\u001b[0;34m\u001b[0m\u001b[0;34m\u001b[0m\u001b[0m\n\u001b[0m\u001b[1;32m   4103\u001b[0m             \u001b[0;32mif\u001b[0m \u001b[0mis_integer\u001b[0m\u001b[0;34m(\u001b[0m\u001b[0mindexer\u001b[0m\u001b[0;34m)\u001b[0m\u001b[0;34m:\u001b[0m\u001b[0;34m\u001b[0m\u001b[0;34m\u001b[0m\u001b[0m\n\u001b[1;32m   4104\u001b[0m                 \u001b[0mindexer\u001b[0m \u001b[0;34m=\u001b[0m \u001b[0;34m[\u001b[0m\u001b[0mindexer\u001b[0m\u001b[0;34m]\u001b[0m\u001b[0;34m\u001b[0m\u001b[0;34m\u001b[0m\u001b[0m\n",
            "\u001b[0;32m/usr/local/lib/python3.12/dist-packages/pandas/core/indexes/base.py\u001b[0m in \u001b[0;36mget_loc\u001b[0;34m(self, key)\u001b[0m\n\u001b[1;32m   3810\u001b[0m             ):\n\u001b[1;32m   3811\u001b[0m                 \u001b[0;32mraise\u001b[0m \u001b[0mInvalidIndexError\u001b[0m\u001b[0;34m(\u001b[0m\u001b[0mkey\u001b[0m\u001b[0;34m)\u001b[0m\u001b[0;34m\u001b[0m\u001b[0;34m\u001b[0m\u001b[0m\n\u001b[0;32m-> 3812\u001b[0;31m             \u001b[0;32mraise\u001b[0m \u001b[0mKeyError\u001b[0m\u001b[0;34m(\u001b[0m\u001b[0mkey\u001b[0m\u001b[0;34m)\u001b[0m \u001b[0;32mfrom\u001b[0m \u001b[0merr\u001b[0m\u001b[0;34m\u001b[0m\u001b[0;34m\u001b[0m\u001b[0m\n\u001b[0m\u001b[1;32m   3813\u001b[0m         \u001b[0;32mexcept\u001b[0m \u001b[0mTypeError\u001b[0m\u001b[0;34m:\u001b[0m\u001b[0;34m\u001b[0m\u001b[0;34m\u001b[0m\u001b[0m\n\u001b[1;32m   3814\u001b[0m             \u001b[0;31m# If we have a listlike key, _check_indexing_error will raise\u001b[0m\u001b[0;34m\u001b[0m\u001b[0;34m\u001b[0m\u001b[0m\n",
            "\u001b[0;31mKeyError\u001b[0m: 'code'"
          ]
        }
      ]
    },
    {
      "cell_type": "code",
      "source": [
        "import json\n",
        "import pandas as pd\n",
        "\n",
        "# Step 1: Load the JSON file\n",
        "with open('stations.json', 'r') as f:\n",
        "    data = json.load(f)\n",
        "\n",
        "# Step 2: Flatten the 'features' list into a DataFrame\n",
        "stations = pd.json_normalize(data['features'])\n",
        "\n",
        "# Step 3: Extract relevant columns\n",
        "# 'properties.code' → station code, 'properties.name' → station name, etc.\n",
        "stations_clean = stations[['properties.code', 'properties.name', 'properties.state',\n",
        "                           'properties.zone', 'properties.address', 'geometry.coordinates']]\n",
        "\n",
        "# Step 4: Rename columns for clarity\n",
        "stations_clean = stations_clean.rename(columns={\n",
        "    'properties.code': 'station_code',\n",
        "    'properties.name': 'station_name',\n",
        "    'properties.state': 'state',\n",
        "    'properties.zone': 'zone',\n",
        "    'properties.address': 'address',\n",
        "    'geometry.coordinates': 'coordinates'\n",
        "})\n",
        "\n",
        "# Step 5: Handle missing coordinates (optional)\n",
        "stations_clean['coordinates'] = stations_clean['coordinates'].apply(lambda x: x if isinstance(x, list) else [None, None])\n",
        "\n",
        "# Step 6: Export to CSV\n",
        "stations_clean.to_csv('stations_clean.csv', index=False)\n",
        "\n",
        "print(\"CSV saved successfully! Here are the first 5 rows:\")\n",
        "print(stations_clean.head())\n"
      ],
      "metadata": {
        "colab": {
          "base_uri": "https://localhost:8080/"
        },
        "id": "nHZOClE8ohac",
        "outputId": "5245ee0b-6c2f-48d4-af1a-8594b94759be"
      },
      "execution_count": null,
      "outputs": [
        {
          "output_type": "stream",
          "name": "stdout",
          "text": [
            "CSV saved successfully! Here are the first 5 rows:\n",
            "  station_code station_name          state  zone  \\\n",
            "0         BDHL       Badhal      Rajasthan   NWR   \n",
            "1      XX-BECE      XX-BECE           None  None   \n",
            "2      XX-BSPY      XX-BSPY           None  None   \n",
            "3      YY-BPLC      YY-BPLC           None  None   \n",
            "4          KHH       KICHHA  Uttar Pradesh   NER   \n",
            "\n",
            "                        address                      coordinates  \n",
            "0  Kishangarh Renwal, Rajasthan         [75.4516454, 27.2520587]  \n",
            "1                          None                     [None, None]  \n",
            "2                          None                     [None, None]  \n",
            "3                          None                     [None, None]  \n",
            "4         Kichha, Uttar Pradesh  [79.519746, 28.913427000000002]  \n"
          ]
        }
      ]
    },
    {
      "cell_type": "markdown",
      "source": [],
      "metadata": {
        "id": "vzqGXvuWsIL-"
      }
    },
    {
      "cell_type": "code",
      "source": [
        "from google.colab import files\n",
        "files.download('stations_clean.csv')\n"
      ],
      "metadata": {
        "colab": {
          "base_uri": "https://localhost:8080/",
          "height": 17
        },
        "id": "M-S2akGvsc_k",
        "outputId": "3ff53a6d-fac0-41a9-c0ab-159eeabc25d1"
      },
      "execution_count": null,
      "outputs": [
        {
          "output_type": "display_data",
          "data": {
            "text/plain": [
              "<IPython.core.display.Javascript object>"
            ],
            "application/javascript": [
              "\n",
              "    async function download(id, filename, size) {\n",
              "      if (!google.colab.kernel.accessAllowed) {\n",
              "        return;\n",
              "      }\n",
              "      const div = document.createElement('div');\n",
              "      const label = document.createElement('label');\n",
              "      label.textContent = `Downloading \"${filename}\": `;\n",
              "      div.appendChild(label);\n",
              "      const progress = document.createElement('progress');\n",
              "      progress.max = size;\n",
              "      div.appendChild(progress);\n",
              "      document.body.appendChild(div);\n",
              "\n",
              "      const buffers = [];\n",
              "      let downloaded = 0;\n",
              "\n",
              "      const channel = await google.colab.kernel.comms.open(id);\n",
              "      // Send a message to notify the kernel that we're ready.\n",
              "      channel.send({})\n",
              "\n",
              "      for await (const message of channel.messages) {\n",
              "        // Send a message to notify the kernel that we're ready.\n",
              "        channel.send({})\n",
              "        if (message.buffers) {\n",
              "          for (const buffer of message.buffers) {\n",
              "            buffers.push(buffer);\n",
              "            downloaded += buffer.byteLength;\n",
              "            progress.value = downloaded;\n",
              "          }\n",
              "        }\n",
              "      }\n",
              "      const blob = new Blob(buffers, {type: 'application/binary'});\n",
              "      const a = document.createElement('a');\n",
              "      a.href = window.URL.createObjectURL(blob);\n",
              "      a.download = filename;\n",
              "      div.appendChild(a);\n",
              "      a.click();\n",
              "      div.remove();\n",
              "    }\n",
              "  "
            ]
          },
          "metadata": {}
        },
        {
          "output_type": "display_data",
          "data": {
            "text/plain": [
              "<IPython.core.display.Javascript object>"
            ],
            "application/javascript": [
              "download(\"download_8990fe6c-9cad-46bc-926a-b248b35a671b\", \"stations_clean.csv\", 591015)"
            ]
          },
          "metadata": {}
        }
      ]
    },
    {
      "cell_type": "code",
      "source": [
        "import json\n",
        "import pandas as pd\n",
        "\n",
        "# Step 1: Load JSON file\n",
        "with open('trains.json', 'r') as f:\n",
        "    data = json.load(f)\n",
        "\n",
        "# Step 2: Flatten 'features' list into a DataFrame\n",
        "trains = pd.json_normalize(data['features'])\n",
        "\n",
        "# Step 3: Extract relevant columns\n",
        "# geometry.coordinates → route coordinates\n",
        "# properties.* → train details\n",
        "trains_clean = trains[['properties.number', 'properties.name', 'properties.type',\n",
        "                       'properties.from_station_code', 'properties.from_station_name',\n",
        "                       'properties.to_station_code', 'properties.to_station_name',\n",
        "                       'properties.departure', 'properties.arrival', 'properties.duration_h',\n",
        "                       'properties.duration_m', 'properties.distance', 'properties.zone',\n",
        "                       'properties.first_class', 'properties.first_ac', 'properties.second_ac',\n",
        "                       'properties.third_ac', 'properties.chair_car', 'properties.sleeper',\n",
        "                       'properties.classes', 'properties.return_train',\n",
        "                       'geometry.coordinates']]\n",
        "\n",
        "# Step 4: Rename columns to snake_case\n",
        "trains_clean = trains_clean.rename(columns={\n",
        "    'properties.number': 'train_number',\n",
        "    'properties.name': 'train_name',\n",
        "    'properties.type': 'train_type',\n",
        "    'properties.from_station_code': 'from_station_code',\n",
        "    'properties.from_station_name': 'from_station_name',\n",
        "    'properties.to_station_code': 'to_station_code',\n",
        "    'properties.to_station_name': 'to_station_name',\n",
        "    'properties.departure': 'departure_time',\n",
        "    'properties.arrival': 'arrival_time',\n",
        "    'properties.duration_h': 'duration_hours',\n",
        "    'properties.duration_m': 'duration_minutes',\n",
        "    'properties.distance': 'distance_km',\n",
        "    'properties.zone': 'zone',\n",
        "    'properties.first_class': 'first_class',\n",
        "    'properties.first_ac': 'first_ac',\n",
        "    'properties.second_ac': 'second_ac',\n",
        "    'properties.third_ac': 'third_ac',\n",
        "    'properties.chair_car': 'chair_car',\n",
        "    'properties.sleeper': 'sleeper',\n",
        "    'properties.classes': 'classes',\n",
        "    'properties.return_train': 'return_train',\n",
        "    'geometry.coordinates': 'route_coordinates'\n",
        "})\n",
        "\n",
        "# Step 5: Handle missing/empty values if needed\n",
        "trains_clean['classes'] = trains_clean['classes'].fillna('')\n",
        "\n",
        "# Step 6: Export to CSV\n",
        "trains_clean.to_csv('trains_clean.csv', index=False)\n",
        "\n",
        "print(\"Trains CSV saved successfully! Here are the first 5 rows:\")\n",
        "print(trains_clean.head())\n"
      ],
      "metadata": {
        "colab": {
          "base_uri": "https://localhost:8080/"
        },
        "id": "rIxbzGmWuKEL",
        "outputId": "6dc70f8e-3ef0-44a0-8eca-f17869ac531a"
      },
      "execution_count": null,
      "outputs": [
        {
          "output_type": "stream",
          "name": "stdout",
          "text": [
            "Trains CSV saved successfully! Here are the first 5 rows:\n",
            "  train_number                         train_name train_type  \\\n",
            "0        04601        Jammu Tawi Udhampur Special       DEMU   \n",
            "1        04602             UDHAMPUR JAMMUTAWI DMU       DEMU   \n",
            "2        04603                   JAT UDAHMPUR DMU       DEMU   \n",
            "3        04604             UDHAMPUR JAMMUTAWI DMU       DEMU   \n",
            "4        04728  Mumbai BandraT-Bikaner SF Special         SF   \n",
            "\n",
            "  from_station_code       from_station_name to_station_code to_station_name  \\\n",
            "0               JAT              JAMMU TAWI             UHP        UDHAMPUR   \n",
            "1               UHP                UDHAMPUR             JAT      JAMMU TAWI   \n",
            "2               JAT              JAMMU TAWI             UHP        UDHAMPUR   \n",
            "3               UHP                UDHAMPUR             JAT      JAMMU TAWI   \n",
            "4              BDTS  MUMBAI BANDRA TERMINUS             BKN      BIKANER JN   \n",
            "\n",
            "  departure_time arrival_time  duration_hours  ...  zone  first_class  \\\n",
            "0       10:40:00     12:15:00             1.0  ...    NR            0   \n",
            "1       06:45:00     08:35:00             1.0  ...    NR            0   \n",
            "2       16:15:00     17:50:00             1.0  ...    NR            0   \n",
            "3       18:20:00     19:50:00             1.0  ...    NR            0   \n",
            "4       14:35:00     12:30:00            21.0  ...   NWR            0   \n",
            "\n",
            "  first_ac  second_ac  third_ac  chair_car  sleeper  classes  return_train  \\\n",
            "0        0          0         0          0        0                  04602   \n",
            "1        0          0         0          0        0                  04601   \n",
            "2        0          0         0          0        0                  04604   \n",
            "3        0          0         0          0        0                  04603   \n",
            "4        0          1         1          0        1                  04727   \n",
            "\n",
            "                                   route_coordinates  \n",
            "0  [[74.880117, 32.706975], [74.953339, 32.762368...  \n",
            "1  [[75.154881, 32.92664], [75.14542599999999, 32...  \n",
            "2  [[74.880117, 32.706975], [74.953339, 32.762368...  \n",
            "3  [[75.154881, 32.92664], [75.14542599999999, 32...  \n",
            "4  [[72.840535, 19.061911], [72.840078, 19.069166...  \n",
            "\n",
            "[5 rows x 22 columns]\n"
          ]
        }
      ]
    },
    {
      "cell_type": "code",
      "source": [
        "from google.colab import files\n",
        "files.download('trains_clean.csv')"
      ],
      "metadata": {
        "colab": {
          "base_uri": "https://localhost:8080/",
          "height": 17
        },
        "id": "Y1E_jmjQuNk8",
        "outputId": "ec7c89ba-e352-41a1-8fec-7eb51e2d55e5"
      },
      "execution_count": null,
      "outputs": [
        {
          "output_type": "display_data",
          "data": {
            "text/plain": [
              "<IPython.core.display.Javascript object>"
            ],
            "application/javascript": [
              "\n",
              "    async function download(id, filename, size) {\n",
              "      if (!google.colab.kernel.accessAllowed) {\n",
              "        return;\n",
              "      }\n",
              "      const div = document.createElement('div');\n",
              "      const label = document.createElement('label');\n",
              "      label.textContent = `Downloading \"${filename}\": `;\n",
              "      div.appendChild(label);\n",
              "      const progress = document.createElement('progress');\n",
              "      progress.max = size;\n",
              "      div.appendChild(progress);\n",
              "      document.body.appendChild(div);\n",
              "\n",
              "      const buffers = [];\n",
              "      let downloaded = 0;\n",
              "\n",
              "      const channel = await google.colab.kernel.comms.open(id);\n",
              "      // Send a message to notify the kernel that we're ready.\n",
              "      channel.send({})\n",
              "\n",
              "      for await (const message of channel.messages) {\n",
              "        // Send a message to notify the kernel that we're ready.\n",
              "        channel.send({})\n",
              "        if (message.buffers) {\n",
              "          for (const buffer of message.buffers) {\n",
              "            buffers.push(buffer);\n",
              "            downloaded += buffer.byteLength;\n",
              "            progress.value = downloaded;\n",
              "          }\n",
              "        }\n",
              "      }\n",
              "      const blob = new Blob(buffers, {type: 'application/binary'});\n",
              "      const a = document.createElement('a');\n",
              "      a.href = window.URL.createObjectURL(blob);\n",
              "      a.download = filename;\n",
              "      div.appendChild(a);\n",
              "      a.click();\n",
              "      div.remove();\n",
              "    }\n",
              "  "
            ]
          },
          "metadata": {}
        },
        {
          "output_type": "display_data",
          "data": {
            "text/plain": [
              "<IPython.core.display.Javascript object>"
            ],
            "application/javascript": [
              "download(\"download_18d8304e-8825-48ec-a533-f4cef93a5de9\", \"trains_clean.csv\", 12647680)"
            ]
          },
          "metadata": {}
        }
      ]
    },
    {
      "cell_type": "code",
      "source": [
        "import json\n",
        "import pandas as pd\n",
        "\n",
        "# Step 1: Load JSON file\n",
        "with open('schedules.json', 'r') as f:\n",
        "    data = json.load(f)\n",
        "\n",
        "# Step 2: Convert list of dictionaries to DataFrame\n",
        "schedules = pd.DataFrame(data)\n",
        "\n",
        "# Step 3: Rename columns to snake_case (optional but consistent)\n",
        "schedules = schedules.rename(columns={\n",
        "    'train_name': 'train_name',\n",
        "    'train_number': 'train_number',\n",
        "    'station_name': 'station_name',\n",
        "    'station_code': 'station_code',\n",
        "    'arrival': 'arrival_time',\n",
        "    'departure': 'departure_time',\n",
        "    'day': 'day',\n",
        "    'id': 'record_id'\n",
        "})\n",
        "\n",
        "# Step 4: Handle missing arrival times\n",
        "schedules['arrival_time'] = schedules['arrival_time'].replace('None', pd.NA)\n",
        "\n",
        "# Step 5: Export to CSV\n",
        "schedules.to_csv('schedules_clean.csv', index=False)\n",
        "\n",
        "print(\"Schedules CSV saved successfully! Here are the first 5 rows:\")\n",
        "print(schedules.head())\n"
      ],
      "metadata": {
        "colab": {
          "base_uri": "https://localhost:8080/"
        },
        "id": "fr_utP78u861",
        "outputId": "d9e035fb-8928-4a4e-ff8c-408ae7faf0a9"
      },
      "execution_count": null,
      "outputs": [
        {
          "output_type": "stream",
          "name": "stdout",
          "text": [
            "Schedules CSV saved successfully! Here are the first 5 rows:\n",
            "  arrival_time  day                     train_name         station_name  \\\n",
            "0         <NA>  1.0     Falaknuma Lingampalli MMTS  KACHEGUDA FALAKNUMA   \n",
            "1         <NA>  1.0   Thrissur Guruvayur Passenger              THRISUR   \n",
            "2         <NA>  1.0  Porbandar Muzaffarpur Express            PORBANDAR   \n",
            "3         <NA>  1.0             RAIPUR ITWARI PASS            RAIPUR JN   \n",
            "4         <NA>  1.0             Gomoh-Asansol MEMU             GOMOH JN   \n",
            "\n",
            "  station_code  record_id train_number departure_time  \n",
            "0           FM     302214        47154       07:55:00  \n",
            "1          TCR     281458        56044       18:55:00  \n",
            "2          PBR     309335        19269       15:05:00  \n",
            "3            R     283774        58205       13:30:00  \n",
            "4          GMO     319937        63542       07:20:00  \n"
          ]
        }
      ]
    },
    {
      "cell_type": "code",
      "source": [
        "from google.colab import files\n",
        "files.download('schedules_clean.csv')"
      ],
      "metadata": {
        "colab": {
          "base_uri": "https://localhost:8080/",
          "height": 17
        },
        "id": "5Di4X7spu_2M",
        "outputId": "0a6f85d6-8dbe-4749-aef7-28888a26729e"
      },
      "execution_count": null,
      "outputs": [
        {
          "output_type": "display_data",
          "data": {
            "text/plain": [
              "<IPython.core.display.Javascript object>"
            ],
            "application/javascript": [
              "\n",
              "    async function download(id, filename, size) {\n",
              "      if (!google.colab.kernel.accessAllowed) {\n",
              "        return;\n",
              "      }\n",
              "      const div = document.createElement('div');\n",
              "      const label = document.createElement('label');\n",
              "      label.textContent = `Downloading \"${filename}\": `;\n",
              "      div.appendChild(label);\n",
              "      const progress = document.createElement('progress');\n",
              "      progress.max = size;\n",
              "      div.appendChild(progress);\n",
              "      document.body.appendChild(div);\n",
              "\n",
              "      const buffers = [];\n",
              "      let downloaded = 0;\n",
              "\n",
              "      const channel = await google.colab.kernel.comms.open(id);\n",
              "      // Send a message to notify the kernel that we're ready.\n",
              "      channel.send({})\n",
              "\n",
              "      for await (const message of channel.messages) {\n",
              "        // Send a message to notify the kernel that we're ready.\n",
              "        channel.send({})\n",
              "        if (message.buffers) {\n",
              "          for (const buffer of message.buffers) {\n",
              "            buffers.push(buffer);\n",
              "            downloaded += buffer.byteLength;\n",
              "            progress.value = downloaded;\n",
              "          }\n",
              "        }\n",
              "      }\n",
              "      const blob = new Blob(buffers, {type: 'application/binary'});\n",
              "      const a = document.createElement('a');\n",
              "      a.href = window.URL.createObjectURL(blob);\n",
              "      a.download = filename;\n",
              "      div.appendChild(a);\n",
              "      a.click();\n",
              "      div.remove();\n",
              "    }\n",
              "  "
            ]
          },
          "metadata": {}
        },
        {
          "output_type": "display_data",
          "data": {
            "text/plain": [
              "<IPython.core.display.Javascript object>"
            ],
            "application/javascript": [
              "download(\"download_c8d78562-cc05-4e47-90d0-c4e18710e581\", \"schedules_clean.csv\", 32295146)"
            ]
          },
          "metadata": {}
        }
      ]
    },
    {
      "cell_type": "code",
      "source": [
        "import pandas as pd\n",
        "\n",
        "# Step 1: Load the CSV\n",
        "timetable = pd.read_csv('timetable.csv')\n",
        "\n",
        "# Step 2: Rename columns to snake_case\n",
        "timetable = timetable.rename(columns={\n",
        "    'Train No': 'train_no',\n",
        "    'Train Name': 'train_name',\n",
        "    'SEQ': 'seq',\n",
        "    'Station Code': 'station_code',\n",
        "    'Station Name': 'station_name',\n",
        "    'Arrival time': 'arrival_time',\n",
        "    'Departure Time': 'departure_time',\n",
        "    'Distance': 'distance_km',\n",
        "    'Source Station': 'source_station_code',\n",
        "    'Source Station Name': 'source_station_name',\n",
        "    'Destination Station': 'destination_station_code',\n",
        "    'Destination Station Name': 'destination_station_name'\n",
        "})\n",
        "\n",
        "# Step 3: Save the updated CSV\n",
        "timetable.to_csv('timetable_snake_case.csv', index=False)\n",
        "\n",
        "print(\"Columns updated to snake_case! Here are the first 5 rows:\")\n",
        "print(timetable.head())\n"
      ],
      "metadata": {
        "colab": {
          "base_uri": "https://localhost:8080/"
        },
        "id": "g3bC-8F-vdjO",
        "outputId": "ff46ace9-be98-41d9-85cc-4ab95687af05"
      },
      "execution_count": null,
      "outputs": [
        {
          "output_type": "stream",
          "name": "stderr",
          "text": [
            "/tmp/ipython-input-1440165849.py:4: DtypeWarning: Columns (0,2,7) have mixed types. Specify dtype option on import or set low_memory=False.\n",
            "  timetable = pd.read_csv('timetable.csv')\n"
          ]
        },
        {
          "output_type": "stream",
          "name": "stdout",
          "text": [
            "Columns updated to snake_case! Here are the first 5 rows:\n",
            "  train_no    train_name seq station_code  station_name arrival_time  \\\n",
            "0      107  SWV-MAO-VLNK   1          SWV  SAWANTWADI R     00:00:00   \n",
            "1      107  SWV-MAO-VLNK   2         THVM        THIVIM     11:06:00   \n",
            "2      107  SWV-MAO-VLNK   3         KRMI       KARMALI     11:28:00   \n",
            "3      107  SWV-MAO-VLNK   4          MAO   MADGOAN JN.     12:10:00   \n",
            "4      108  VLNK-MAO-SWV   1          MAO   MADGOAN JN.     00:00:00   \n",
            "\n",
            "  departure_time distance_km source_station_code source_station_name  \\\n",
            "0       10:25:00           0                 SWV     SAWANTWADI ROAD   \n",
            "1       11:08:00          32                 SWV     SAWANTWADI ROAD   \n",
            "2       11:30:00          49                 SWV     SAWANTWADI ROAD   \n",
            "3       00:00:00          78                 SWV     SAWANTWADI ROAD   \n",
            "4       20:30:00           0                 MAO         MADGOAN JN.   \n",
            "\n",
            "  destination_station_code destination_station_name  \n",
            "0                      MAO              MADGOAN JN.  \n",
            "1                      MAO              MADGOAN JN.  \n",
            "2                      MAO              MADGOAN JN.  \n",
            "3                      MAO              MADGOAN JN.  \n",
            "4                      SWV          SAWANTWADI ROAD  \n"
          ]
        }
      ]
    },
    {
      "cell_type": "code",
      "source": [
        "from google.colab import files\n",
        "files.download('timetable_snake_case.csv')"
      ],
      "metadata": {
        "colab": {
          "base_uri": "https://localhost:8080/",
          "height": 17
        },
        "id": "2VysyOsXvfdb",
        "outputId": "c78ad60e-3790-45df-aec9-705e4ac0f2b6"
      },
      "execution_count": null,
      "outputs": [
        {
          "output_type": "display_data",
          "data": {
            "text/plain": [
              "<IPython.core.display.Javascript object>"
            ],
            "application/javascript": [
              "\n",
              "    async function download(id, filename, size) {\n",
              "      if (!google.colab.kernel.accessAllowed) {\n",
              "        return;\n",
              "      }\n",
              "      const div = document.createElement('div');\n",
              "      const label = document.createElement('label');\n",
              "      label.textContent = `Downloading \"${filename}\": `;\n",
              "      div.appendChild(label);\n",
              "      const progress = document.createElement('progress');\n",
              "      progress.max = size;\n",
              "      div.appendChild(progress);\n",
              "      document.body.appendChild(div);\n",
              "\n",
              "      const buffers = [];\n",
              "      let downloaded = 0;\n",
              "\n",
              "      const channel = await google.colab.kernel.comms.open(id);\n",
              "      // Send a message to notify the kernel that we're ready.\n",
              "      channel.send({})\n",
              "\n",
              "      for await (const message of channel.messages) {\n",
              "        // Send a message to notify the kernel that we're ready.\n",
              "        channel.send({})\n",
              "        if (message.buffers) {\n",
              "          for (const buffer of message.buffers) {\n",
              "            buffers.push(buffer);\n",
              "            downloaded += buffer.byteLength;\n",
              "            progress.value = downloaded;\n",
              "          }\n",
              "        }\n",
              "      }\n",
              "      const blob = new Blob(buffers, {type: 'application/binary'});\n",
              "      const a = document.createElement('a');\n",
              "      a.href = window.URL.createObjectURL(blob);\n",
              "      a.download = filename;\n",
              "      div.appendChild(a);\n",
              "      a.click();\n",
              "      div.remove();\n",
              "    }\n",
              "  "
            ]
          },
          "metadata": {}
        },
        {
          "output_type": "display_data",
          "data": {
            "text/plain": [
              "<IPython.core.display.Javascript object>"
            ],
            "application/javascript": [
              "download(\"download_9cd722b2-23d0-43d2-bc30-0ed3f7728d0e\", \"timetable_snake_case.csv\", 16518773)"
            ]
          },
          "metadata": {}
        }
      ]
    }
  ]
}